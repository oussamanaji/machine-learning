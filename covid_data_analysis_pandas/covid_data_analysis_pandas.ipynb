{
  "nbformat": 4,
  "nbformat_minor": 0,
  "metadata": {
    "colab": {
      "provenance": []
    },
    "kernelspec": {
      "name": "python3",
      "display_name": "Python 3"
    },
    "language_info": {
      "name": "python"
    }
  },
  "cells": [
    {
      "cell_type": "markdown",
      "source": [
        "# Covid-19 Data Analysis using Pandas\n",
        "\n",
        "Author: Mohamed Oussama NAJI\n",
        "\n",
        "Date: Jan 22, 2024"
      ],
      "metadata": {
        "id": "2GavZRh4NfXO"
      }
    },
    {
      "cell_type": "markdown",
      "source": [
        "## Table of Contents\n",
        "1. [Introduction](#introduction)\n",
        "2. [Data Source](#data-source)\n",
        "3. [Data Loading](#data-loading)\n",
        "4. [Data Exploration](#data-exploration)\n",
        "    - [Top 5 Rows](#top-5-rows)\n",
        "    - [Dataset Information](#dataset-information)\n",
        "    - [Missing Values](#missing-values)\n",
        "5. [Data Analysis](#data-analysis)\n",
        "    - [Confirmed Cases by Country](#confirmed-cases-by-country)\n",
        "    - [Deaths by Country](#deaths-by-country)\n",
        "    - [Recovered Cases by Country](#recovered-cases-by-country)\n",
        "    - [Active Cases by Country](#active-cases-by-country)\n",
        "    - [Latest Numbers by Country](#latest-numbers-by-country)\n",
        "    - [Countries with No Recovered Cases](#countries-with-no-recovered-cases)\n",
        "    - [Countries with No Confirmed Cases](#countries-with-no-confirmed-cases)\n",
        "    - [Countries with No Deaths](#countries-with-no-deaths)\n",
        "    - [Top 10 Countries with Confirmed Cases](#top-10-countries-with-confirmed-cases)\n",
        "    - [Top 10 Countries with Active Cases](#top-10-countries-with-active-cases)\n",
        "6. [Data Visualization](#data-visualization)\n",
        "    - [Country-wise Total Cases](#country-wise-total-cases)\n",
        "    - [USA: State-wise Deaths](#usa-state-wise-deaths)\n",
        "    - [USA: State-wise Active Cases](#usa-state-wise-active-cases)\n",
        "    - [USA: State-wise Confirmed Cases](#usa-state-wise-confirmed-cases)\n",
        "    - [Worldwide Confirmed Cases Over Time](#worldwide-confirmed-cases-over-time)\n",
        "7. [Results](#results)\n",
        "8. [Conclusion](#conclusion)"
      ],
      "metadata": {
        "id": "xUuul_hGNlo1"
      }
    },
    {
      "cell_type": "markdown",
      "source": [
        "## Introduction <a id=\"introduction\"></a>\n",
        "\n",
        "In this notebook, we will perform data analysis on the Covid-19 dataset using the Pandas library. The dataset contains information about confirmed cases, deaths, recovered cases, and active cases of Covid-19 across various countries and regions.\n"
      ],
      "metadata": {
        "id": "p7LCphhQNybm"
      }
    },
    {
      "cell_type": "markdown",
      "source": [
        "## Data Source <a id=\"data-source\"></a>\n",
        "\n",
        "The Covid-19 dataset is obtained from the following source:\n",
        "https://github.com/CSSEGISandData/COVID-19/tree/master/csse_covid_19_data/csse_covid_19_daily_reports\n",
        "\n",
        "The dataset follows a specific file naming convention: MM-DD-YYYY.csv in UTC. Each file contains data for a particular date.\n"
      ],
      "metadata": {
        "id": "5n3maPUZN4Nu"
      }
    },
    {
      "cell_type": "markdown",
      "source": [
        "## Data Loading <a id=\"data-loading\"></a>"
      ],
      "metadata": {
        "id": "WDBpPgq0N_Z-"
      }
    },
    {
      "cell_type": "code",
      "source": [
        "import pandas as pd\n",
        "\n",
        "url = 'https://raw.githubusercontent.com/CSSEGISandData/COVID-19/master/csse_covid_19_data/csse_covid_19_daily_reports/11-01-2021.csv'\n",
        "covidata = pd.read_csv(url)\n",
        "print(covidata)"
      ],
      "metadata": {
        "id": "wJIh_W3OOBLe"
      },
      "execution_count": null,
      "outputs": []
    },
    {
      "cell_type": "markdown",
      "source": [
        "## Data Exploration <a id=\"data-exploration\"></a>\n",
        "\n",
        "### Top 5 Rows <a id=\"top-5-rows\"></a>"
      ],
      "metadata": {
        "id": "CR2ocy4xOCld"
      }
    },
    {
      "cell_type": "code",
      "source": [
        "covidata.head()"
      ],
      "metadata": {
        "id": "mvfwwEpWOG3N"
      },
      "execution_count": null,
      "outputs": []
    },
    {
      "cell_type": "markdown",
      "source": [
        "### Dataset Information <a id=\"dataset-information\"></a>"
      ],
      "metadata": {
        "id": "7fOoRnNvOJGd"
      }
    },
    {
      "cell_type": "code",
      "source": [
        "covidata.info()"
      ],
      "metadata": {
        "id": "PN4OFCOFOKfF"
      },
      "execution_count": null,
      "outputs": []
    },
    {
      "cell_type": "markdown",
      "source": [
        "### Missing Values <a id=\"missing-values\"></a>"
      ],
      "metadata": {
        "id": "-6bW8YTPOM39"
      }
    },
    {
      "cell_type": "code",
      "source": [
        "covidata.isnull().sum()"
      ],
      "metadata": {
        "id": "_az_1AZ1OLe9"
      },
      "execution_count": null,
      "outputs": []
    },
    {
      "cell_type": "markdown",
      "source": [
        "## Data Analysis <a id=\"data-analysis\"></a>"
      ],
      "metadata": {
        "id": "AiPCKB5LOPEe"
      }
    },
    {
      "cell_type": "markdown",
      "source": [
        "### Confirmed Cases by Country <a id=\"confirmed-cases-by-country\"></a>"
      ],
      "metadata": {
        "id": "3IMtctAMOSVm"
      }
    },
    {
      "cell_type": "code",
      "source": [
        "covidata.groupby('Country_Region')['Confirmed'].sum()"
      ],
      "metadata": {
        "id": "vYOqAT-2OUF2"
      },
      "execution_count": null,
      "outputs": []
    },
    {
      "cell_type": "markdown",
      "source": [
        "### Deaths by Country <a id=\"deaths-by-country\"></a>"
      ],
      "metadata": {
        "id": "XuCqd7ZAOVPO"
      }
    },
    {
      "cell_type": "code",
      "source": [
        "covidata.groupby('Country_Region')['Deaths'].sum()"
      ],
      "metadata": {
        "id": "ZhqD_mz9OWPN"
      },
      "execution_count": null,
      "outputs": []
    },
    {
      "cell_type": "markdown",
      "source": [
        "### Recovered Cases by Country <a id=\"recovered-cases-by-country\"></a>"
      ],
      "metadata": {
        "id": "jFWr8HgOOXnl"
      }
    },
    {
      "cell_type": "code",
      "source": [
        "covidata.groupby('Country_Region')['Recovered'].sum()"
      ],
      "metadata": {
        "id": "OOo312Z-ObA-"
      },
      "execution_count": null,
      "outputs": []
    },
    {
      "cell_type": "markdown",
      "source": [
        "### Active Cases by Country <a id=\"active-cases-by-country\"></a>"
      ],
      "metadata": {
        "id": "EnS8d_e8Ocft"
      }
    },
    {
      "cell_type": "code",
      "source": [
        "covidata.groupby('Country_Region')['Active'].sum()"
      ],
      "metadata": {
        "id": "0ezN8NhOOeO1"
      },
      "execution_count": null,
      "outputs": []
    },
    {
      "cell_type": "markdown",
      "source": [
        "### Latest Numbers by Country <a id=\"latest-numbers-by-country\"></a>"
      ],
      "metadata": {
        "id": "Ko8XLEuoOhtV"
      }
    },
    {
      "cell_type": "code",
      "source": [
        "covidata.groupby('Country_Region')[['Confirmed', 'Deaths', 'Recovered', 'Active']].last()"
      ],
      "metadata": {
        "id": "IBog0frqOi2F"
      },
      "execution_count": null,
      "outputs": []
    },
    {
      "cell_type": "markdown",
      "source": [
        "### Countries with No Recovered Cases <a id=\"countries-with-no-recovered-cases\"></a>"
      ],
      "metadata": {
        "id": "rqn1cQbXOlTt"
      }
    },
    {
      "cell_type": "code",
      "source": [
        "covidata[covidata['Recovered'] == 0]['Country_Region'].unique()"
      ],
      "metadata": {
        "id": "8SFLfUJ4Omv-"
      },
      "execution_count": null,
      "outputs": []
    },
    {
      "cell_type": "markdown",
      "source": [
        "### Countries with No Confirmed Cases <a id=\"countries-with-no-confirmed-cases\"></a>"
      ],
      "metadata": {
        "id": "ZU8k39fsOn91"
      }
    },
    {
      "cell_type": "code",
      "source": [
        "covidata[covidata['Confirmed'] == 0]['Country_Region'].unique()"
      ],
      "metadata": {
        "id": "sG9g43sxOpH9"
      },
      "execution_count": null,
      "outputs": []
    },
    {
      "cell_type": "markdown",
      "source": [
        "### Countries with No Deaths <a id=\"countries-with-no-deaths\"></a>"
      ],
      "metadata": {
        "id": "cKr8MGVROq5F"
      }
    },
    {
      "cell_type": "code",
      "source": [
        "covidata[covidata['Deaths'] == 0]['Country_Region'].unique()"
      ],
      "metadata": {
        "id": "_ZTVdVgwOsGd"
      },
      "execution_count": null,
      "outputs": []
    },
    {
      "cell_type": "markdown",
      "source": [
        "### Top 10 Countries with Confirmed Cases <a id=\"top-10-countries-with-confirmed-cases\"></a>"
      ],
      "metadata": {
        "id": "MPDzK03ZOyHV"
      }
    },
    {
      "cell_type": "code",
      "source": [
        "covidata.groupby('Country_Region')['Confirmed'].sum().nlargest(10)"
      ],
      "metadata": {
        "id": "CIS1AL1EOz8l"
      },
      "execution_count": null,
      "outputs": []
    },
    {
      "cell_type": "markdown",
      "source": [
        "### Top 10 Countries with Active Cases <a id=\"top-10-countries-with-active-cases\"></a>"
      ],
      "metadata": {
        "id": "64sCdRPCO1Sd"
      }
    },
    {
      "cell_type": "code",
      "source": [
        "covidata.groupby('Country_Region')['Active'].sum().nlargest(10)"
      ],
      "metadata": {
        "id": "mjdPa_D2O2MG"
      },
      "execution_count": null,
      "outputs": []
    },
    {
      "cell_type": "markdown",
      "source": [
        "## Data Visualization <a id=\"data-visualization\"></a>\n",
        "\n",
        "### Country-wise Total Cases <a id=\"country-wise-total-cases\"></a>"
      ],
      "metadata": {
        "id": "xxFYD-jBO3nl"
      }
    },
    {
      "cell_type": "code",
      "source": [
        "import matplotlib.pyplot as plt\n",
        "\n",
        "fiftyk = covidata[covidata['Deaths'] > 50000]\n",
        "fiftyk.groupby('Country_Region')[['Confirmed', 'Deaths', 'Recovered', 'Active']].sum().plot()\n",
        "plt.show()"
      ],
      "metadata": {
        "id": "PX6BVTm9O5pN"
      },
      "execution_count": null,
      "outputs": []
    },
    {
      "cell_type": "markdown",
      "source": [
        "### USA: State-wise Deaths <a id=\"usa-state-wise-deaths\"></a>"
      ],
      "metadata": {
        "id": "v9Iu1iO7O7Z0"
      }
    },
    {
      "cell_type": "code",
      "source": [
        "import plotly.express as px\n",
        "\n",
        "usa_data = covidata[covidata['Country_Region'] == 'US']\n",
        "\n",
        "fig = px.bar(usa_data, x='Province_State', y='Deaths', title='State-wise Deaths in USA')\n",
        "fig.show()"
      ],
      "metadata": {
        "id": "tphLmR7NO9ON"
      },
      "execution_count": null,
      "outputs": []
    },
    {
      "cell_type": "markdown",
      "source": [
        "### USA: State-wise Active Cases <a id=\"usa-state-wise-active-cases\"></a>"
      ],
      "metadata": {
        "id": "lcF6_tNBO-o1"
      }
    },
    {
      "cell_type": "code",
      "source": [
        "fig = px.bar(usa_data, x='Province_State', y='Active', title='State-wise Active Cases in USA')\n",
        "fig.show()"
      ],
      "metadata": {
        "id": "Q8BpRxuoPAfN"
      },
      "execution_count": null,
      "outputs": []
    },
    {
      "cell_type": "markdown",
      "source": [
        "### USA: State-wise Confirmed Cases <a id=\"usa-state-wise-confirmed-cases\"></a>"
      ],
      "metadata": {
        "id": "CkfjO7j1PB5N"
      }
    },
    {
      "cell_type": "code",
      "source": [
        "fig = px.bar(usa_data, x='Province_State', y='Confirmed', title='State-wise Confirmed Cases in USA')\n",
        "fig.show()"
      ],
      "metadata": {
        "id": "rAvu_CZdPCx9"
      },
      "execution_count": null,
      "outputs": []
    },
    {
      "cell_type": "markdown",
      "source": [
        "### Worldwide Confirmed Cases Over Time <a id=\"worldwide-confirmed-cases-over-time\"></a>"
      ],
      "metadata": {
        "id": "XdBC0sB_PFv1"
      }
    },
    {
      "cell_type": "code",
      "source": [
        "import plotly.io as pio\n",
        "\n",
        "confirmed_cases = covidata.groupby(['Country_Region', 'Last_Update'])['Confirmed'].sum().reset_index()\n",
        "confirmed_cases['Last_Update'] = pd.to_datetime(confirmed_cases['Last_Update'])\n",
        "\n",
        "fig = px.line(confirmed_cases, x='Last_Update', y='Confirmed', color='Country_Region')\n",
        "fig.show()"
      ],
      "metadata": {
        "id": "y1s7J1Y-PG-1"
      },
      "execution_count": null,
      "outputs": []
    },
    {
      "cell_type": "markdown",
      "source": [
        "## Results <a id=\"results\"></a>\n",
        "\n",
        "The data analysis and visualization performed on the Covid-19 dataset using Pandas yielded the following key results:\n",
        "\n",
        "1. The United States had the highest number of confirmed cases, deaths, and active cases among all countries.\n",
        "2. Countries like Micronesia, Samoa, and Vanuatu had no reported Covid-19 cases.\n",
        "3. The top 10 countries with the highest number of confirmed cases were the United States, India, Brazil, the United Kingdom, Russia, Turkey, France, Iran, Argentina, and Spain.\n",
        "4. Within the United States, California, Texas, and Florida had the highest number of deaths, active cases, and confirmed cases.\n",
        "5. The worldwide confirmed cases over time showed a steady increase, with the United States, India, and Brazil having the highest numbers.\n",
        "\n",
        "These results provide insights into the global impact of the Covid-19 pandemic and highlight the countries and regions most affected by the virus.\n"
      ],
      "metadata": {
        "id": "B7s77FjpPI3F"
      }
    }
  ]
}