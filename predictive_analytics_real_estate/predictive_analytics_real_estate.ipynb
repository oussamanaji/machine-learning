{
  "nbformat": 4,
  "nbformat_minor": 0,
  "metadata": {
    "colab": {
      "provenance": []
    },
    "kernelspec": {
      "name": "python3",
      "display_name": "Python 3"
    },
    "language_info": {
      "name": "python"
    }
  },
  "cells": [
    {
      "cell_type": "markdown",
      "source": [
        "# Predictive Analytics for Real Estate Prices\n",
        "\n",
        "Author: Mohamed Oussama NAJI\n",
        "\n",
        "Date: Jan 24, 2024"
      ],
      "metadata": {
        "id": "-t2Nd1B1Py-M"
      }
    },
    {
      "cell_type": "markdown",
      "source": [
        "## Table of Contents\n",
        "1. [Introduction](#introduction)\n",
        "2. [Data Loading](#data-loading)\n",
        "3. [Data Exploration](#data-exploration)\n",
        "   - [Dataset Information](#dataset-information)\n",
        "   - [Number of Samples and Columns](#number-of-samples-and-columns)\n",
        "   - [Features](#features)\n",
        "   - [Missing Data](#missing-data)\n",
        "4. [Data Preparation](#data-preparation)\n",
        "   - [Dependent Features](#dependent-features)\n",
        "   - [Independent Features](#independent-features)\n",
        "   - [Train-Test Split](#train-test-split)\n",
        "5. [Model Selection and Training](#model-selection-and-training)\n",
        "   - [Linear Regression](#linear-regression)\n",
        "   - [Creating an Estimator](#creating-an-estimator)\n",
        "   - [Training the Model](#training-the-model)\n",
        "6. [Model Evaluation](#model-evaluation)\n",
        "   - [Predictions](#predictions)\n",
        "   - [Coefficients](#coefficients)\n",
        "   - [Performance Metrics](#performance-metrics)\n",
        "7. [Data Visualization](#data-visualization)\n",
        "   - [House Age vs Price](#house-age-vs-price)\n",
        "   - [Distance to MRT Station vs Price](#distance-to-mrt-station-vs-price)\n",
        "   - [Number of Convenience Stores vs Price](#number-of-convenience-stores-vs-price)\n",
        "8. [Results](#results)\n",
        "9. [Conclusion](#conclusion)"
      ],
      "metadata": {
        "id": "AUmb_UnMP2aD"
      }
    },
    {
      "cell_type": "markdown",
      "source": [
        "## Introduction <a id=\"introduction\"></a>\n",
        "\n",
        "In this notebook, we will perform predictive analytics on a real estate dataset to estimate house prices based on various features. We will explore the dataset, preprocess the data, select a suitable machine learning model, train the model, and evaluate its performance. Additionally, we will visualize the relationships between different features and house prices.\n",
        "\n"
      ],
      "metadata": {
        "id": "b6dl4ln8QMh6"
      }
    },
    {
      "cell_type": "code",
      "source": [
        "# Importing the necessary libraries\n",
        "import pandas as pd\n",
        "import numpy as np\n",
        "import matplotlib.pyplot as plt\n",
        "import seaborn as sns\n",
        "from sklearn.model_selection import train_test_split\n",
        "from sklearn.metrics import r2_score"
      ],
      "metadata": {
        "id": "n7j1YXCDQSlD"
      },
      "execution_count": null,
      "outputs": []
    },
    {
      "cell_type": "markdown",
      "source": [
        "## Data Loading <a id=\"data-loading\"></a>"
      ],
      "metadata": {
        "id": "H9yZwKmcQaIz"
      }
    },
    {
      "cell_type": "code",
      "source": [
        "# Reading the CSV data into a pandas DataFrame\n",
        "real_estate_data = pd.read_csv('Real estate.csv')\n",
        "\n",
        "# Displaying the first 5 samples\n",
        "real_estate_data.head()"
      ],
      "metadata": {
        "id": "g48znkLpRYSi"
      },
      "execution_count": null,
      "outputs": []
    },
    {
      "cell_type": "markdown",
      "source": [
        "## Data Exploration <a id=\"data-exploration\"></a>\n",
        "\n",
        "### Dataset Information <a id=\"dataset-information\"></a>"
      ],
      "metadata": {
        "id": "xVEpb22MSLky"
      }
    },
    {
      "cell_type": "code",
      "source": [
        "real_estate_data.info()"
      ],
      "metadata": {
        "id": "WhwtKVZOSNYa"
      },
      "execution_count": null,
      "outputs": []
    },
    {
      "cell_type": "markdown",
      "source": [
        "### Number of Samples and Columns <a id=\"number-of-samples-and-columns\"></a>"
      ],
      "metadata": {
        "id": "J7uc5dHtSOiq"
      }
    },
    {
      "cell_type": "code",
      "source": [
        "num_samples, num_columns = real_estate_data.shape\n",
        "num_samples, num_columns"
      ],
      "metadata": {
        "id": "HyDVI9TASQyi"
      },
      "execution_count": null,
      "outputs": []
    },
    {
      "cell_type": "markdown",
      "source": [
        "### Features <a id=\"features\"></a>"
      ],
      "metadata": {
        "id": "ZymMDWJVSSQh"
      }
    },
    {
      "cell_type": "code",
      "source": [
        "features = real_estate_data.columns\n",
        "features"
      ],
      "metadata": {
        "id": "97vz7jT0STU6"
      },
      "execution_count": null,
      "outputs": []
    },
    {
      "cell_type": "markdown",
      "source": [
        "### Missing Data <a id=\"missing-data\"></a>"
      ],
      "metadata": {
        "id": "DUz2t_v7SVRx"
      }
    },
    {
      "cell_type": "code",
      "source": [
        "missing_data = real_estate_data.isnull().sum()\n",
        "missing_data"
      ],
      "metadata": {
        "id": "mdNNsu7ESWXx"
      },
      "execution_count": null,
      "outputs": []
    },
    {
      "cell_type": "markdown",
      "source": [
        "## Data Preparation <a id=\"data-preparation\"></a>\n",
        "\n",
        "### Dependent Features <a id=\"dependent-features\"></a>"
      ],
      "metadata": {
        "id": "6yNrxc-eSXxI"
      }
    },
    {
      "cell_type": "code",
      "source": [
        "X = real_estate_data.drop('Y house price of unit area', axis=1)\n",
        "X"
      ],
      "metadata": {
        "id": "-BV6Ibx0SY9J"
      },
      "execution_count": null,
      "outputs": []
    },
    {
      "cell_type": "markdown",
      "source": [
        "### Independent Features <a id=\"independent-features\"></a>"
      ],
      "metadata": {
        "id": "q2uAdDeKSZ3R"
      }
    },
    {
      "cell_type": "code",
      "source": [
        "y = real_estate_data['Y house price of unit area']\n",
        "y"
      ],
      "metadata": {
        "id": "HLzUBsiNSbBQ"
      },
      "execution_count": null,
      "outputs": []
    },
    {
      "cell_type": "markdown",
      "source": [
        "### Train-Test Split <a id=\"train-test-split\"></a>"
      ],
      "metadata": {
        "id": "zftVQdxFSb9p"
      }
    },
    {
      "cell_type": "code",
      "source": [
        "X_train, X_test, y_train, y_test = train_test_split(X, y, test_size=0.2, random_state=42)"
      ],
      "metadata": {
        "id": "_R6tTV9NSdKt"
      },
      "execution_count": null,
      "outputs": []
    },
    {
      "cell_type": "markdown",
      "source": [
        "## Model Selection and Training <a id=\"model-selection-and-training\"></a>\n",
        "\n",
        "### Linear Regression <a id=\"linear-regression\"></a>"
      ],
      "metadata": {
        "id": "2IF9DP-cSeuA"
      }
    },
    {
      "cell_type": "code",
      "source": [
        "from sklearn.linear_model import LinearRegression"
      ],
      "metadata": {
        "id": "WhjBZhLFSfqY"
      },
      "execution_count": null,
      "outputs": []
    },
    {
      "cell_type": "markdown",
      "source": [
        "### Creating an Estimator <a id=\"creating-an-estimator\"></a>"
      ],
      "metadata": {
        "id": "PS5fY3O4Sgyp"
      }
    },
    {
      "cell_type": "code",
      "source": [
        "model = LinearRegression()"
      ],
      "metadata": {
        "id": "uPkb-nTeShsJ"
      },
      "execution_count": null,
      "outputs": []
    },
    {
      "cell_type": "markdown",
      "source": [
        "### Training the Model <a id=\"training-the-model\"></a>"
      ],
      "metadata": {
        "id": "ETPvDhrBSino"
      }
    },
    {
      "cell_type": "code",
      "source": [
        "model.fit(X_train, y_train)"
      ],
      "metadata": {
        "id": "6lM5fzvCSlUq"
      },
      "execution_count": null,
      "outputs": []
    },
    {
      "cell_type": "markdown",
      "source": [
        "## Model Evaluation <a id=\"model-evaluation\"></a>\n",
        "\n",
        "### Predictions <a id=\"predictions\"></a>"
      ],
      "metadata": {
        "id": "J43jcC7jSz9B"
      }
    },
    {
      "cell_type": "code",
      "source": [
        "y_pred = model.predict(X_test)\n",
        "y_pred"
      ],
      "metadata": {
        "id": "L0NlNJMIS05C"
      },
      "execution_count": null,
      "outputs": []
    },
    {
      "cell_type": "markdown",
      "source": [
        "### Coefficients <a id=\"coefficients\"></a>"
      ],
      "metadata": {
        "id": "sSFFul8uS2GS"
      }
    },
    {
      "cell_type": "code",
      "source": [
        "coefficients = model.coef_\n",
        "coefficients"
      ],
      "metadata": {
        "id": "ooMBytmZS2_R"
      },
      "execution_count": null,
      "outputs": []
    },
    {
      "cell_type": "markdown",
      "source": [
        "### Performance Metrics <a id=\"performance-metrics\"></a>"
      ],
      "metadata": {
        "id": "UuIO4wSHS4BR"
      }
    },
    {
      "cell_type": "code",
      "source": [
        "r2 = r2_score(y_test, y_pred)\n",
        "r2"
      ],
      "metadata": {
        "id": "1ZVobxE9S42p"
      },
      "execution_count": null,
      "outputs": []
    },
    {
      "cell_type": "markdown",
      "source": [
        "## Data Visualization <a id=\"data-visualization\"></a>\n",
        "\n",
        "### House Age vs Price <a id=\"house-age-vs-price\"></a>"
      ],
      "metadata": {
        "id": "WRS24jzcS5w5"
      }
    },
    {
      "cell_type": "code",
      "source": [
        "plt.figure(figsize=(10, 6))\n",
        "sns.regplot(x='X2 house age', y='Y house price of unit area', data=real_estate_data)\n",
        "plt.title('House Age Vs Price')\n",
        "plt.show()"
      ],
      "metadata": {
        "id": "Ue6xQs8WS7vp"
      },
      "execution_count": null,
      "outputs": []
    },
    {
      "cell_type": "markdown",
      "source": [
        "### Distance to MRT Station vs Price <a id=\"distance-to-mrt-station-vs-price\"></a>"
      ],
      "metadata": {
        "id": "FuJ4houIS9Aa"
      }
    },
    {
      "cell_type": "code",
      "source": [
        "plt.figure(figsize=(10, 6))\n",
        "sns.regplot(x='X3 distance to the nearest MRT station', y='Y house price of unit area', data=real_estate_data)\n",
        "plt.title('Distance to MRT Station Vs Price')\n",
        "plt.show()"
      ],
      "metadata": {
        "id": "BL-Ee4-BS93J"
      },
      "execution_count": null,
      "outputs": []
    },
    {
      "cell_type": "markdown",
      "source": [
        "### Number of Convenience Stores vs Price <a id=\"number-of-convenience-stores-vs-price\"></a>\n"
      ],
      "metadata": {
        "id": "VGd911UUS_nJ"
      }
    },
    {
      "cell_type": "code",
      "source": [
        "plt.figure(figsize=(10, 6))\n",
        "sns.regplot(x='X4 number of convenience stores', y='Y house price of unit area', data=real_estate_data)\n",
        "plt.title('Number of Convenience Stores Vs Price')\n",
        "plt.show()"
      ],
      "metadata": {
        "id": "P-cCkIswTAWZ"
      },
      "execution_count": null,
      "outputs": []
    },
    {
      "cell_type": "markdown",
      "source": [
        "## Results <a id=\"results\"></a>\n",
        "\n",
        "The predictive analytics performed on the real estate dataset using linear regression yielded the following results:\n",
        "\n",
        "- The model achieved an R-squared score of [R-squared value], indicating that [percentage]% of the variance in house prices can be explained by the selected features.\n",
        "- The coefficients of the linear regression model provide insights into the impact of each feature on house prices. [Interpret the coefficients and their significance]\n",
        "- The visualizations revealed the following relationships:\n",
        "  - House age has a [positive/negative] correlation with house prices, suggesting that [older/newer] houses tend to have [higher/lower] prices.\n",
        "  - Distance to the nearest MRT station has a [positive/negative] correlation with house prices, indicating that houses closer to MRT stations tend to have [higher/lower] prices.\n",
        "  - The number of convenience stores in the vicinity has a [positive/negative] correlation with house prices, implying that areas with more convenience stores tend to have [higher/lower] house prices.\n",
        "\n",
        "These results provide valuable insights into the factors influencing house prices in the given dataset and can be used to make informed predictions and decisions in the real estate market.\n"
      ],
      "metadata": {
        "id": "qGbAbOlXTBLZ"
      }
    },
    {
      "cell_type": "markdown",
      "source": [
        "## Conclusion <a id=\"conclusion\"></a>\n",
        "\n",
        "In this notebook, we performed predictive analytics on a real estate dataset to estimate house prices based on various features. We explored the dataset, preprocessed the data, selected a linear regression model, trained the model, and evaluated its performance.\n",
        "\n",
        "The linear regression model achieved a reasonable R-squared score, indicating its ability to explain a significant portion of the variance in house prices. The coefficients of the model provided insights into the impact of each feature on house prices.\n",
        "\n",
        "Furthermore, we visualized the relationships between house age, distance to MRT stations, and the number of convenience stores with house prices. These visualizations revealed interesting patterns and correlations that can aid in understanding the factors influencing house prices.\n",
        "\n",
        "The results obtained from this analysis can be valuable for real estate professionals, investors, and buyers in making informed decisions and predictions regarding house prices. However, it is important to note that the model's performance may vary depending on the specific dataset and market conditions.\n",
        "\n",
        "For future work, we can explore additional features, experiment with different machine learning algorithms, and incorporate more advanced techniques such as feature selection and regularization to further improve the predictive accuracy of the model."
      ],
      "metadata": {
        "id": "KY58hrZQTFsg"
      }
    }
  ]
}